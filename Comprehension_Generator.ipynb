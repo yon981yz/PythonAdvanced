{
 "cells": [
  {
   "cell_type": "markdown",
   "metadata": {},
   "source": [
    "# List Comprehension & Generator\n",
    "----\n",
    "## List Comprehension\n",
    ": List를 간결하고 효율적으로 만드는 구문"
   ]
  },
  {
   "cell_type": "markdown",
   "metadata": {},
   "source": [
    "---\n",
    "### List의 각 요소에 1을 더하여 새로운 List를 생성"
   ]
  },
  {
   "cell_type": "code",
   "execution_count": 1,
   "metadata": {},
   "outputs": [],
   "source": [
    "# Data\n",
    "numbers = [1,2,3,4,5]"
   ]
  },
  {
   "cell_type": "code",
   "execution_count": 3,
   "metadata": {},
   "outputs": [
    {
     "name": "stdout",
     "output_type": "stream",
     "text": [
      "[2, 3, 4, 5, 6]\n"
     ]
    }
   ],
   "source": [
    "# 기존 방법\n",
    "addOneResult = []\n",
    "\n",
    "for num in numbers:\n",
    "    processResult = num + 1\n",
    "    addOneResult.append(processResult)\n",
    "\n",
    "print(addOneResult)"
   ]
  },
  {
   "cell_type": "code",
   "execution_count": 4,
   "metadata": {},
   "outputs": [
    {
     "name": "stdout",
     "output_type": "stream",
     "text": [
      "[2, 3, 4, 5, 6]\n"
     ]
    }
   ],
   "source": [
    "# 조금 더 정리된 버전\n",
    "addOneResult = []\n",
    "\n",
    "for num in numbers:\n",
    "    addOneResult.append(num + 1)\n",
    "\n",
    "print(addOneResult)"
   ]
  },
  {
   "cell_type": "code",
   "execution_count": 5,
   "metadata": {},
   "outputs": [
    {
     "name": "stdout",
     "output_type": "stream",
     "text": [
      "[2, 3, 4, 5, 6]\n"
     ]
    }
   ],
   "source": [
    "# List Comprehension(내포)\n",
    "addOneResult = [num +  1 for num in numbers]\n",
    "print(addOneResult)"
   ]
  },
  {
   "cell_type": "markdown",
   "metadata": {},
   "source": [
    "---\n",
    "### List의 각 요소에 제곱의 결과 리스트를 작성하여 출력"
   ]
  },
  {
   "cell_type": "code",
   "execution_count": 6,
   "metadata": {},
   "outputs": [],
   "source": [
    "import math"
   ]
  },
  {
   "cell_type": "code",
   "execution_count": 7,
   "metadata": {},
   "outputs": [
    {
     "name": "stdout",
     "output_type": "stream",
     "text": [
      "[1.0, 4.0, 9.0, 16.0, 25.0]\n"
     ]
    }
   ],
   "source": [
    "# 기존 방법\n",
    "squaredNumbers = []\n",
    "for num in numbers:\n",
    "    squaredNumbers.append(math.pow(num,2))\n",
    "\n",
    "print(squaredNumbers)"
   ]
  },
  {
   "cell_type": "code",
   "execution_count": 9,
   "metadata": {},
   "outputs": [
    {
     "name": "stdout",
     "output_type": "stream",
     "text": [
      "[1.0, 4.0, 9.0, 16.0, 25.0]\n"
     ]
    }
   ],
   "source": [
    "# List Comprehension(내포)\n",
    "squaredNumbers = [math.pow(num,2) for num in numbers]\n",
    "print(squaredNumbers)"
   ]
  },
  {
   "cell_type": "markdown",
   "metadata": {},
   "source": [
    "---\n",
    "### 2단부터 9단까지의 구구단 결과값을 List로 생성"
   ]
  },
  {
   "cell_type": "code",
   "execution_count": 10,
   "metadata": {},
   "outputs": [
    {
     "name": "stdout",
     "output_type": "stream",
     "text": [
      "[2, 4, 6, 8, 10, 12, 14, 16, 18, 3, 6, 9, 12, 15, 18, 21, 24, 27, 4, 8, 12, 16, 20, 24, 28, 32, 36, 5, 10, 15, 20, 25, 30, 35, 40, 45, 6, 12, 18, 24, 30, 36, 42, 48, 54, 7, 14, 21, 28, 35, 42, 49, 56, 63, 8, 16, 24, 32, 40, 48, 56, 64, 72, 9, 18, 27, 36, 45, 54, 63, 72, 81]\n"
     ]
    }
   ],
   "source": [
    "guguDan = []\n",
    "\n",
    "for dan in range(2,10):\n",
    "    for num in range(1,10):\n",
    "        guguDan.append(dan * num)\n",
    "\n",
    "print(guguDan)"
   ]
  },
  {
   "cell_type": "code",
   "execution_count": 13,
   "metadata": {},
   "outputs": [
    {
     "name": "stdout",
     "output_type": "stream",
     "text": [
      "[2, 4, 6, 8, 10, 12, 14, 16, 18, 3, 6, 9, 12, 15, 18, 21, 24, 27, 4, 8, 12, 16, 20, 24, 28, 32, 36, 5, 10, 15, 20, 25, 30, 35, 40, 45, 6, 12, 18, 24, 30, 36, 42, 48, 54, 7, 14, 21, 28, 35, 42, 49, 56, 63, 8, 16, 24, 32, 40, 48, 56, 64, 72, 9, 18, 27, 36, 45, 54, 63, 72, 81]\n"
     ]
    }
   ],
   "source": [
    "guguDan = [dan * num for dan in range(2,10) for num in range(1,10)]\n",
    "print(guguDan)"
   ]
  },
  {
   "cell_type": "markdown",
   "metadata": {},
   "source": [
    "---\n",
    "#### 구구단 결과를 List에 단별로 추가한후 출력하기"
   ]
  },
  {
   "cell_type": "code",
   "execution_count": 15,
   "metadata": {},
   "outputs": [
    {
     "name": "stdout",
     "output_type": "stream",
     "text": [
      "2단 : [2, 4, 6, 8, 10, 12, 14, 16, 18]\n",
      "3단 : [3, 6, 9, 12, 15, 18, 21, 24, 27]\n",
      "4단 : [4, 8, 12, 16, 20, 24, 28, 32, 36]\n",
      "5단 : [5, 10, 15, 20, 25, 30, 35, 40, 45]\n",
      "6단 : [6, 12, 18, 24, 30, 36, 42, 48, 54]\n",
      "7단 : [7, 14, 21, 28, 35, 42, 49, 56, 63]\n",
      "8단 : [8, 16, 24, 32, 40, 48, 56, 64, 72]\n",
      "9단 : [9, 18, 27, 36, 45, 54, 63, 72, 81]\n"
     ]
    }
   ],
   "source": [
    "guguDan = []\n",
    "\n",
    "for dan in range(2,10):\n",
    "    guguDan.append([])\n",
    "    for num in range(1,10):\n",
    "        guguDan[dan-2].append(dan * num)\n",
    "\n",
    "for i in range(len(guguDan)):\n",
    "    print(f\"{i+2}단 : {guguDan[i]}\")"
   ]
  },
  {
   "cell_type": "code",
   "execution_count": 20,
   "metadata": {},
   "outputs": [
    {
     "name": "stdout",
     "output_type": "stream",
     "text": [
      "2단 : [2, 4, 6, 8, 10, 12, 14, 16, 18]\n",
      "3단 : [3, 6, 9, 12, 15, 18, 21, 24, 27]\n",
      "4단 : [4, 8, 12, 16, 20, 24, 28, 32, 36]\n",
      "5단 : [5, 10, 15, 20, 25, 30, 35, 40, 45]\n",
      "6단 : [6, 12, 18, 24, 30, 36, 42, 48, 54]\n",
      "7단 : [7, 14, 21, 28, 35, 42, 49, 56, 63]\n",
      "8단 : [8, 16, 24, 32, 40, 48, 56, 64, 72]\n",
      "9단 : [9, 18, 27, 36, 45, 54, 63, 72, 81]\n"
     ]
    }
   ],
   "source": [
    "guguDan = [[dan * num for num in range(1,10)] for dan in range(2,10)]\n",
    "for i in range(len(guguDan)):\n",
    "    print(f\"{i+2}단 : {guguDan[i]}\")"
   ]
  },
  {
   "cell_type": "markdown",
   "metadata": {},
   "source": [
    "---\n",
    "## 조건을 포함한 List Comprehension"
   ]
  },
  {
   "cell_type": "code",
   "execution_count": 21,
   "metadata": {},
   "outputs": [],
   "source": [
    "# Data\n",
    "numbers = [1,2,3,4,5,6,7,8,9,10]"
   ]
  },
  {
   "cell_type": "code",
   "execution_count": 22,
   "metadata": {},
   "outputs": [
    {
     "name": "stdout",
     "output_type": "stream",
     "text": [
      "[2, 4, 6, 8, 10]\n"
     ]
    }
   ],
   "source": [
    "# List에서 짝수만으로 구성된 List 만들기\n",
    "evenNumbers = []\n",
    "\n",
    "for num in numbers:\n",
    "    if num % 2 ==0:\n",
    "        evenNumbers.append(num)\n",
    "\n",
    "print(evenNumbers)"
   ]
  },
  {
   "cell_type": "code",
   "execution_count": 23,
   "metadata": {},
   "outputs": [
    {
     "name": "stdout",
     "output_type": "stream",
     "text": [
      "[2, 4, 6, 8, 10]\n"
     ]
    }
   ],
   "source": [
    "# List Comprehension\n",
    "evenNumbers = [num for num in numbers if num % 2 == 0]\n",
    "print(evenNumbers)"
   ]
  },
  {
   "cell_type": "markdown",
   "metadata": {},
   "source": [
    "---\n",
    "#### 구구단에서 결과값이 짝수인 단과 곱해지는 수를 List로 생성하기"
   ]
  },
  {
   "cell_type": "code",
   "execution_count": 75,
   "metadata": {},
   "outputs": [
    {
     "name": "stdout",
     "output_type": "stream",
     "text": [
      "[(2, 1), (2, 2), (2, 3), (2, 4), (2, 5), (2, 6), (2, 7), (2, 8), (2, 9), (3, 2), (3, 4), (3, 6), (3, 8), (4, 1), (4, 2), (4, 3), (4, 4), (4, 5), (4, 6), (4, 7), (4, 8), (4, 9), (5, 2), (5, 4), (5, 6), (5, 8), (6, 1), (6, 2), (6, 3), (6, 4), (6, 5), (6, 6), (6, 7), (6, 8), (6, 9), (7, 2), (7, 4), (7, 6), (7, 8), (8, 1), (8, 2), (8, 3), (8, 4), (8, 5), (8, 6), (8, 7), (8, 8), (8, 9), (9, 2), (9, 4), (9, 6), (9, 8)]\n"
     ]
    }
   ],
   "source": [
    "guguDan = []\n",
    "for dan in range(2,10):\n",
    "    for num in range(1,10):\n",
    "        if (dan * num) % 2 == 0:\n",
    "            guguDan.append((dan, num))\n",
    "\n",
    "print(guguDan)"
   ]
  },
  {
   "cell_type": "code",
   "execution_count": 80,
   "metadata": {},
   "outputs": [
    {
     "name": "stdout",
     "output_type": "stream",
     "text": [
      "[(2, 1), (2, 2), (2, 3), (2, 4), (2, 5), (2, 6), (2, 7), (2, 8), (2, 9), (3, 2), (3, 4), (3, 6), (3, 8), (4, 1), (4, 2), (4, 3), (4, 4), (4, 5), (4, 6), (4, 7), (4, 8), (4, 9), (5, 2), (5, 4), (5, 6), (5, 8), (6, 1), (6, 2), (6, 3), (6, 4), (6, 5), (6, 6), (6, 7), (6, 8), (6, 9), (7, 2), (7, 4), (7, 6), (7, 8), (8, 1), (8, 2), (8, 3), (8, 4), (8, 5), (8, 6), (8, 7), (8, 8), (8, 9), (9, 2), (9, 4), (9, 6), (9, 8)]\n"
     ]
    }
   ],
   "source": [
    "guguDan = [(dan, num) for dan in range(2,10) for num in range(1,10) if (dan * num) % 2 == 0]\n",
    "print(guguDan)\n",
    "print(f\"{i+2}단 : {guguDan[i]}\")"
   ]
  },
  {
   "cell_type": "code",
   "execution_count": 76,
   "metadata": {},
   "outputs": [
    {
     "name": "stdout",
     "output_type": "stream",
     "text": [
      "[[(2, 1), (2, 2), (2, 3), (2, 4), (2, 5), (2, 6), (2, 7), (2, 8), (2, 9)], [(3, 2), (3, 4), (3, 6), (3, 8)], [(4, 1), (4, 2), (4, 3), (4, 4), (4, 5), (4, 6), (4, 7), (4, 8), (4, 9)], [(5, 2), (5, 4), (5, 6), (5, 8)], [(6, 1), (6, 2), (6, 3), (6, 4), (6, 5), (6, 6), (6, 7), (6, 8), (6, 9)], [(7, 2), (7, 4), (7, 6), (7, 8)], [(8, 1), (8, 2), (8, 3), (8, 4), (8, 5), (8, 6), (8, 7), (8, 8), (8, 9)], [(9, 2), (9, 4), (9, 6), (9, 8)]]\n"
     ]
    }
   ],
   "source": [
    "guguDan = []\n",
    "for dan in range(2,10):\n",
    "    guguDan.append([])\n",
    "    for num in range(1,10):\n",
    "        if (dan * num) % 2 == 0:\n",
    "            guguDan[dan-2].append((dan, num))\n",
    "\n",
    "print(guguDan)"
   ]
  },
  {
   "cell_type": "code",
   "execution_count": 78,
   "metadata": {},
   "outputs": [
    {
     "name": "stdout",
     "output_type": "stream",
     "text": [
      "[[(2, 1), (2, 2), (2, 3), (2, 4), (2, 5), (2, 6), (2, 7), (2, 8), (2, 9)], [(3, 2), (3, 4), (3, 6), (3, 8)], [(4, 1), (4, 2), (4, 3), (4, 4), (4, 5), (4, 6), (4, 7), (4, 8), (4, 9)], [(5, 2), (5, 4), (5, 6), (5, 8)], [(6, 1), (6, 2), (6, 3), (6, 4), (6, 5), (6, 6), (6, 7), (6, 8), (6, 9)], [(7, 2), (7, 4), (7, 6), (7, 8)], [(8, 1), (8, 2), (8, 3), (8, 4), (8, 5), (8, 6), (8, 7), (8, 8), (8, 9)], [(9, 2), (9, 4), (9, 6), (9, 8)]]\n"
     ]
    }
   ],
   "source": [
    "guguDan = [[(dan, num) for num in range(1,10) if (dan * num) % 2 == 0] for dan in range(2,10)]\n",
    "print(guguDan)"
   ]
  },
  {
   "cell_type": "code",
   "execution_count": 48,
   "metadata": {},
   "outputs": [
    {
     "name": "stdout",
     "output_type": "stream",
     "text": [
      "2 X 2 = 4\n",
      "2 X 4 = 8\n",
      "2 X 6 = 12\n",
      "2 X 8 = 16\n",
      "4 X 2 = 8\n",
      "4 X 4 = 16\n",
      "4 X 6 = 24\n",
      "4 X 8 = 32\n",
      "6 X 2 = 12\n",
      "6 X 4 = 24\n",
      "6 X 6 = 36\n",
      "6 X 8 = 48\n",
      "8 X 2 = 16\n",
      "8 X 4 = 32\n",
      "8 X 6 = 48\n",
      "8 X 8 = 64\n"
     ]
    }
   ],
   "source": [
    "# 연습 : List Comprehension으로 구구단에서 짝수단과 짝수 곱해지는 수의 결과값으로 List를 추가한후 출력하기\n",
    "guguDan = []\n",
    "for dan in range(2,9,2):\n",
    "    for num in range(2,9,2):\n",
    "        guguDan.append(dan * num)\n",
    "        print(f\"{dan} X {num} = {dan * num}\")"
   ]
  },
  {
   "cell_type": "code",
   "execution_count": 67,
   "metadata": {},
   "outputs": [
    {
     "name": "stdout",
     "output_type": "stream",
     "text": [
      "[(2, 2, 4), (2, 4, 8), (2, 6, 12), (2, 8, 16), (4, 2, 8), (4, 4, 16), (4, 6, 24), (4, 8, 32), (6, 2, 12), (6, 4, 24), (6, 6, 36), (6, 8, 48), (8, 2, 16), (8, 4, 32), (8, 6, 48), (8, 8, 64)]\n"
     ]
    },
    {
     "data": {
      "text/plain": [
       "16"
      ]
     },
     "execution_count": 67,
     "metadata": {},
     "output_type": "execute_result"
    }
   ],
   "source": [
    "# 연습 : List Comprehension으로 구구단에서 짝수단과 짝수 곱해지는 수의 결과값으로 List를 추가한후 출력하기\n",
    "guguDanEx = [(dan,num,dan*num) for dan in range(2,9,2) for num in range(2,9,2)]\n",
    "print(guguDanEx)\n",
    "len(guguDanEx)"
   ]
  },
  {
   "cell_type": "code",
   "execution_count": 69,
   "metadata": {},
   "outputs": [
    {
     "name": "stdout",
     "output_type": "stream",
     "text": [
      "2 X 2 = 4\n",
      "2 X 4 = 8\n",
      "2 X 6 = 12\n",
      "2 X 8 = 16\n",
      "4 X 2 = 8\n",
      "4 X 4 = 16\n",
      "4 X 6 = 24\n",
      "4 X 8 = 32\n",
      "6 X 2 = 12\n",
      "6 X 4 = 24\n",
      "6 X 6 = 36\n",
      "6 X 8 = 48\n",
      "8 X 2 = 16\n",
      "8 X 4 = 32\n",
      "8 X 6 = 48\n",
      "8 X 8 = 64\n"
     ]
    }
   ],
   "source": [
    "for i in range(len(guguDanEx)):\n",
    "    print(f\"{guguDanEx[i][0]} X {guguDanEx[i][1]} = {guguDanEx[i][2]}\")"
   ]
  },
  {
   "cell_type": "markdown",
   "metadata": {},
   "source": [
    "---\n",
    "#### 중첩된 리스트 컴프리핸션(2차원 리스트)"
   ]
  },
  {
   "cell_type": "code",
   "execution_count": 81,
   "metadata": {},
   "outputs": [
    {
     "name": "stdout",
     "output_type": "stream",
     "text": [
      "2차원 행렬 : [[1, 2, 3], [4, 5, 6], [7, 8, 9]]\n",
      "1차원 행렬: [1, 2, 3, 4, 5, 6, 7, 8, 9]\n"
     ]
    }
   ],
   "source": [
    "matrix = [[1,2,3], [4,5,6],[7,8,9]]\n",
    "print(\"2차원 행렬 :\", matrix)\n",
    "flattened = [x for row in matrix for x in row]\n",
    "print(\"1차원 행렬:\", flattened)"
   ]
  },
  {
   "cell_type": "markdown",
   "metadata": {},
   "source": [
    "---\n",
    "### 리스트에서 중복제거\n",
    ": 중복된 요소를 제외한 리스트를 만드는 방법"
   ]
  },
  {
   "cell_type": "code",
   "execution_count": 82,
   "metadata": {},
   "outputs": [],
   "source": [
    "# Data\n",
    "numbers = [1,2,2,3,4,4,5,6,6]"
   ]
  },
  {
   "cell_type": "code",
   "execution_count": 83,
   "metadata": {},
   "outputs": [
    {
     "name": "stdout",
     "output_type": "stream",
     "text": [
      "[1, 2, 3, 4, 5, 6]\n"
     ]
    }
   ],
   "source": [
    "# Method 1 - 정렬이 안되있으면 이 방법이 좋다.\n",
    "unique_numbers = []\n",
    "for num in numbers:\n",
    "    if num not in unique_numbers:\n",
    "        unique_numbers.append(num)\n",
    "\n",
    "print(unique_numbers)"
   ]
  },
  {
   "cell_type": "code",
   "execution_count": 86,
   "metadata": {},
   "outputs": [
    {
     "name": "stdout",
     "output_type": "stream",
     "text": [
      "[]\n",
      "[1]\n",
      "[1, 2]\n",
      "[1, 2, 2]\n",
      "[1, 2, 2, 3]\n",
      "[1, 2, 2, 3, 4]\n",
      "[1, 2, 2, 3, 4, 4]\n",
      "[1, 2, 2, 3, 4, 4, 5]\n",
      "[1, 2, 2, 3, 4, 4, 5, 6]\n",
      "[1, 2, 3, 4, 5, 6]\n"
     ]
    }
   ],
   "source": [
    "# Method 2 - 정렬이 되있으면 이 방법이 빠르다\n",
    "unique_numbers = []\n",
    "for i, x in enumerate(numbers):\n",
    "    if x not in numbers[:i]:\n",
    "        unique_numbers.append(x)\n",
    "\n",
    "print(unique_numbers)"
   ]
  },
  {
   "cell_type": "code",
   "execution_count": 87,
   "metadata": {},
   "outputs": [
    {
     "name": "stdout",
     "output_type": "stream",
     "text": [
      "[1, 2, 3, 4, 5, 6]\n"
     ]
    }
   ],
   "source": [
    "unique_numbers = [x for i,x in enumerate(numbers) if x not in numbers[:i]]\n",
    "print(unique_numbers)"
   ]
  },
  {
   "cell_type": "code",
   "execution_count": 89,
   "metadata": {},
   "outputs": [
    {
     "name": "stdout",
     "output_type": "stream",
     "text": [
      "{1, 2, 3, 4, 5, 6}\n",
      "[1, 2, 3, 4, 5, 6]\n"
     ]
    }
   ],
   "source": [
    "# Method 3\n",
    "unique_set_numbers = {x for x in numbers}\n",
    "print(unique_set_numbers)\n",
    "\n",
    "unique_numbers = [x for x in unique_set_numbers]\n",
    "print(unique_numbers)"
   ]
  },
  {
   "cell_type": "code",
   "execution_count": 90,
   "metadata": {},
   "outputs": [
    {
     "name": "stdout",
     "output_type": "stream",
     "text": [
      "[1, 2, 3, 4, 5, 6]\n"
     ]
    }
   ],
   "source": [
    "unique_numbers = [x for x in {x for x in numbers}]\n",
    "print(unique_numbers)"
   ]
  },
  {
   "cell_type": "code",
   "execution_count": 91,
   "metadata": {},
   "outputs": [
    {
     "name": "stdout",
     "output_type": "stream",
     "text": [
      "[1, 2, 3, 4, 5, 6]\n"
     ]
    }
   ],
   "source": [
    "# Method 5\n",
    "unique_numbers = [x for x in set(numbers)]\n",
    "print(unique_numbers)"
   ]
  },
  {
   "cell_type": "markdown",
   "metadata": {},
   "source": [
    "---\n",
    "# Generator(제너레이터) 표현식 \n",
    ": 제너레이터 표현식은 리스트 컴프리핸션과 비슷한 문법을 사용하지만, 메모리에 모든 요소를 한꺼번에 저장하지 않고 필요한 시점에 값을 하나씩 생성하는 방식이다.\n",
    "()로 감싸서 표현하며, 대규모 데이터처리시 효율적이다."
   ]
  },
  {
   "cell_type": "code",
   "execution_count": 93,
   "metadata": {},
   "outputs": [
    {
     "name": "stdout",
     "output_type": "stream",
     "text": [
      "[0, 1, 2, 3, 4]\n"
     ]
    }
   ],
   "source": [
    "# 0~4까지의 수를 Generator로 만들어 List로 출력하기\n",
    "\n",
    "numbers = (x for x in range(5))\n",
    "print(list(numbers))"
   ]
  },
  {
   "cell_type": "code",
   "execution_count": 100,
   "metadata": {},
   "outputs": [
    {
     "name": "stdout",
     "output_type": "stream",
     "text": [
      "{16, 18, 12, 14}\n",
      "[]\n"
     ]
    }
   ],
   "source": [
    "# 0~19까지의 수중 짝수 이면서 10보다 큰 수만 Generator로 생성하여 List로 출력하기\n",
    "filterd_gen = (x for x in range(20) if x %2 == 0 and x > 10)\n",
    "print(list(filterd_gen))\n",
    "print(set(filterd_gen))"
   ]
  },
  {
   "cell_type": "markdown",
   "metadata": {},
   "source": [
    "---\n",
    "Tuple Comprehension"
   ]
  },
  {
   "cell_type": "code",
   "execution_count": 6,
   "metadata": {},
   "outputs": [
    {
     "name": "stdout",
     "output_type": "stream",
     "text": [
      "(0, 1, 4, 9, 16)\n",
      "(0, 1, 4, 9, 16)\n"
     ]
    }
   ],
   "source": [
    "squaredNumbers = tuple(x**2 for x in range(5)) # tuple Comprehension\n",
    "# squaredNumbers = (x**2 for x in range(5)) # Generator\n",
    "print(squaredNumbers)\n",
    "print(tuple(squaredNumbers)) # Generator -> tuple"
   ]
  },
  {
   "cell_type": "code",
   "execution_count": 7,
   "metadata": {},
   "outputs": [
    {
     "name": "stdout",
     "output_type": "stream",
     "text": [
      "[(1, 3), (2, 2)]\n"
     ]
    }
   ],
   "source": [
    "from collections import Counter\n",
    "my_list = [1,2,3,2,1,1,4,5,3]\n",
    "\n",
    "# Counter : dictionary로 빈도수 계산\n",
    "Counter(my_list)\n",
    "\n",
    "\n",
    "# 빈도수 높은값 구하기 : most_common(개수)\n",
    "print(Counter(my_list).most_common(2))\n"
   ]
  }
 ],
 "metadata": {
  "kernelspec": {
   "display_name": "base",
   "language": "python",
   "name": "python3"
  },
  "language_info": {
   "codemirror_mode": {
    "name": "ipython",
    "version": 3
   },
   "file_extension": ".py",
   "mimetype": "text/x-python",
   "name": "python",
   "nbconvert_exporter": "python",
   "pygments_lexer": "ipython3",
   "version": "3.12.4"
  }
 },
 "nbformat": 4,
 "nbformat_minor": 2
}
